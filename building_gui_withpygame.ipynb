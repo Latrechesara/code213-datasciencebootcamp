{
 "cells": [
  {
   "cell_type": "markdown",
   "id": "bbfbdd4e",
   "metadata": {},
   "source": [
    "# Reinforcement Learning Lab: Tic-Tac-Toe with Pygame Interface\n",
    "\n",
    "<img src=\"../images/tictactoe.png\" alt=\"Tic Tac Toe Example\" width=\"200\"/>\n",
    "\n",
    "**What is this lab about?**  \n",
    "\n",
    "In this lab, we’ll create a **graphical interface** for Tic-Tac-Toe using **Pygame**. The interface will allow:\n",
    "\n",
    "- A human to play against a trained **RL agent** (SARSA, Q-Learning, or DQN).  \n",
    "- Students to understand **how to design and integrate a user interface** with a machine learning model.  \n",
    "- Visualization of **game states, moves, and outcomes**.  \n",
    "\n",
    "We will focus on:  \n",
    "\n",
    "- Understanding the **event-driven programming model** in Pygame.  \n",
    "- Designing a **clickable Tic-Tac-Toe board**.  \n",
    "- Integrating a **trained agent** for automatic moves.  \n",
    "- Handling **game states, wins, draws, and illegal moves**.  \n",
    "- Providing **interactive feedback** to the user.  \n",
    "\n",
    "\n",
    "\n",
    "## Table of Contents\n",
    "\n",
    "- [1 - Packages](#1)  \n",
    "- [2 - Initialize Pygame and Board](#2)  \n",
    "- [3 - Draw Tic-Tac-Toe Board](#3)  \n",
    "- [4 - Handling Player Moves](#4)  \n",
    "- [5 - Integrate RL Agent](#5)  \n",
    "- [6 - Game Loop and Display](#6)  \n",
    "- [7 - Optional Features](#7)  \n",
    "- [8 - Exercises](#8) "
   ]
  },
  {
   "cell_type": "markdown",
   "id": "ae5f37eb",
   "metadata": {},
   "source": [
    "## 1 - Packages <a id=\"1\"></a>\n",
    "\n",
    "**Instructions:**  \n",
    "\n",
    "- Import the necessary Python packages.  \n",
    "- Ensure `pygame`, `numpy`, and `torch` are installed for graphical interface and agent integration."
   ]
  },
  {
   "cell_type": "code",
   "execution_count": 1,
   "id": "ea12eb6c",
   "metadata": {},
   "outputs": [
    {
     "name": "stdout",
     "output_type": "stream",
     "text": [
      "pygame 2.6.1 (SDL 2.28.4, Python 3.12.11)\n",
      "Hello from the pygame community. https://www.pygame.org/contribute.html\n"
     ]
    }
   ],
   "source": [
    "import pygame\n",
    "import numpy as np\n",
    "import torch\n",
    "import random"
   ]
  },
  {
   "cell_type": "markdown",
   "id": "b582b851",
   "metadata": {},
   "source": [
    "## 2 - Initialize Pygame and Board <a id=\"2\"></a>\n",
    "\n",
    "**Instructions:**  \n",
    "\n",
    "- Initialize the Pygame window.  \n",
    "- Set screen size, colors, and caption.  \n",
    "- Initialize a 3x3 board using a NumPy array where:  \n",
    "  - `0` = empty cell  \n",
    "  - `1` = human player  \n",
    "  - `-1` = RL agent  \n",
    "\n",
    "> Students should understand that the **board state** is stored separately from the display, and each update in the game loop will read from this array to draw X and O.\n"
   ]
  },
  {
   "cell_type": "code",
   "execution_count": 2,
   "id": "5014ba63",
   "metadata": {},
   "outputs": [],
   "source": [
    "# Initialize Pygame\n",
    "pygame.init()\n",
    "\n",
    "# Screen settings\n",
    "size = width, height = 300, 300\n",
    "screen = pygame.display.set_mode(size)\n",
    "pygame.display.set_caption(\"Tic-Tac-Toe vs RL Agent\")\n",
    "\n",
    "# Colors\n",
    "WHITE = (255, 255, 255)\n",
    "BLACK = (0, 0, 0)\n",
    "BLUE = (0, 0, 255)\n",
    "RED = (255, 0, 0)\n",
    "\n",
    "# Initialize board: 0-empty, 1-player, -1-agent\n",
    "board = np.zeros((3,3), dtype=int)\n"
   ]
  },
  {
   "cell_type": "markdown",
   "id": "46888e5b",
   "metadata": {},
   "source": [
    "## 3 - Draw Tic-Tac-Toe Board <a id=\"3\"></a>\n",
    "\n",
    "**Instructions:**  \n",
    "\n",
    "- Draw a **3x3 grid** on the Pygame window.  \n",
    "- Use **lines** to separate rows and columns.  \n",
    "- Draw **X** for the human player and **O** for the RL agent according to the board state.  \n",
    "- Update the display after each change.  \n",
    "\n",
    "> Hint: should understand how the **board state array** maps to screen coordinates and how to render X and O in the correct cells.\n"
   ]
  },
  {
   "cell_type": "code",
   "execution_count": 4,
   "id": "e8fc79b0",
   "metadata": {},
   "outputs": [],
   "source": [
    "def draw_board(board):\n",
    "    # Fill background\n",
    "    screen.fill(WHITE)\n",
    "    \n",
    "    # Draw grid lines\n",
    "    for i in range(1, 3):\n",
    "        pygame.draw.line(screen, BLACK, (0, i*100), (300, i*100), 3)  # horizontal\n",
    "        pygame.draw.line(screen, BLACK, (i*100, 0), (i*100, 300), 3)  # vertical\n",
    "    \n",
    "    # Draw X and O based on board state\n",
    "    for i in range(3):\n",
    "        for j in range(3):\n",
    "            if board[i,j] == 1:  # Player X\n",
    "                pygame.draw.line(screen, BLUE, (j*100+10,i*100+10), (j*100+90,i*100+90), 5)\n",
    "                pygame.draw.line(screen, BLUE, (j*100+90,i*100+10), (j*100+10,i*100+90), 5)\n",
    "            elif board[i,j] == -1:  # Agent O\n",
    "                pygame.draw.circle(screen, RED, (j*100+50,i*100+50), 40, 5)\n",
    "    \n",
    "    # Update display\n",
    "    pygame.display.update()\n"
   ]
  },
  {
   "cell_type": "markdown",
   "id": "b471e502",
   "metadata": {},
   "source": [
    "## 4 - Handling Player Moves <a id=\"4\"></a>\n",
    "\n",
    "**Instructions:**  \n",
    "\n",
    "- Map **mouse clicks** to board positions.  \n",
    "- Only allow moves in **empty cells**.  \n",
    "- Update the board array to reflect the human player’s move (`1`).  \n",
    "- Students should understand **mapping pixel coordinates to board indices**.  \n",
    "- This is the first step toward making the board interactive.  \n"
   ]
  },
  {
   "cell_type": "markdown",
   "id": "81464974",
   "metadata": {},
   "source": []
  },
  {
   "cell_type": "code",
   "execution_count": 2,
   "id": "db28a2ed",
   "metadata": {},
   "outputs": [],
   "source": [
    "def player_move(board, mouse_pos):\n",
    "    \"\"\"\n",
    "    Update the board with a player move based on mouse click.\n",
    "    \n",
    "    Parameters:\n",
    "        board (np.array): Current game board (3x3)\n",
    "        mouse_pos (tuple): (x, y) position of the mouse click\n",
    "    Returns:\n",
    "        bool: True if move was valid, False otherwise\n",
    "    \"\"\"\n",
    "    row, col = mouse_pos[1] // 100, mouse_pos[0] // 100  # Map pixels to board index\n",
    "    if board[row, col] == 0:\n",
    "        board[row, col] = 1  # Player move\n",
    "        return True\n",
    "    return False\n"
   ]
  },
  {
   "cell_type": "code",
   "execution_count": 3,
   "id": "52134032",
   "metadata": {},
   "outputs": [
    {
     "ename": "NameError",
     "evalue": "name 'draw_board' is not defined",
     "output_type": "error",
     "traceback": [
      "\u001b[31m---------------------------------------------------------------------------\u001b[39m",
      "\u001b[31mNameError\u001b[39m                                 Traceback (most recent call last)",
      "\u001b[36mCell\u001b[39m\u001b[36m \u001b[39m\u001b[32mIn[3]\u001b[39m\u001b[32m, line 3\u001b[39m\n\u001b[32m      1\u001b[39m running = \u001b[38;5;28;01mTrue\u001b[39;00m\n\u001b[32m      2\u001b[39m \u001b[38;5;28;01mwhile\u001b[39;00m running:\n\u001b[32m----> \u001b[39m\u001b[32m3\u001b[39m     draw_board(board)\n\u001b[32m      4\u001b[39m     \u001b[38;5;28;01mfor\u001b[39;00m event \u001b[38;5;129;01min\u001b[39;00m pygame.event.get():\n\u001b[32m      5\u001b[39m         \u001b[38;5;28;01mif\u001b[39;00m event.type == pygame.QUIT:\n",
      "\u001b[31mNameError\u001b[39m: name 'draw_board' is not defined"
     ]
    }
   ],
   "source": [
    "running = True\n",
    "while running:\n",
    "    draw_board(board)\n",
    "    for event in pygame.event.get():\n",
    "        if event.type == pygame.QUIT:\n",
    "            running = False\n",
    "        elif event.type == pygame.MOUSEBUTTONDOWN:\n",
    "            if player_move(board, event.pos):\n",
    "                print(\"Player moved!\")\n"
   ]
  },
  {
   "cell_type": "markdown",
   "id": "68d586d2",
   "metadata": {},
   "source": []
  },
  {
   "cell_type": "markdown",
   "id": "4b43ff8a",
   "metadata": {},
   "source": [
    "## 5 - Integrate RL Agent <a id=\"5\"></a>\n",
    "\n",
    "**Instructions:**  \n",
    "\n",
    "- Use a trained RL model (DQN, Q-Learning, or SARSA) to select moves.  \n",
    "- Ensure the agent only selects **empty cells**.  \n",
    "- Update the board array with the agent’s move (`-1`).  \n",
    "- Students should understand:  \n",
    "  - Flattening the board state for the model input.  \n",
    "  - Mapping model output (0–8) back to **row and column**.  \n",
    "  - Handling cases where the predicted cell is already occupied.  \n"
   ]
  },
  {
   "cell_type": "markdown",
   "id": "b0c844b4",
   "metadata": {},
   "source": []
  },
  {
   "cell_type": "code",
   "execution_count": 4,
   "id": "a7785e8a",
   "metadata": {},
   "outputs": [],
   "source": [
    "def agent_move(board, model):\n",
    "    \"\"\"\n",
    "    Update the board with the agent's move using the trained model.\n",
    "    \n",
    "    Parameters:\n",
    "        board (np.array): Current game board (3x3)\n",
    "        model (torch.nn.Module): Trained RL model predicting Q-values\n",
    "    \"\"\"\n",
    "    # Flatten the board for model input\n",
    "    state = board.flatten()\n",
    "    \n",
    "    with torch.no_grad():\n",
    "        q_values = model(torch.FloatTensor(state))\n",
    "        action = int(torch.argmax(q_values).item())\n",
    "    \n",
    "    # If chosen cell is occupied, select a random empty cell\n",
    "    if board[action // 3, action % 3] != 0:\n",
    "        empty_cells = [i for i in range(9) if board.flatten()[i] == 0]\n",
    "        if empty_cells:\n",
    "            action = random.choice(empty_cells)\n",
    "    \n",
    "    # Update the board\n",
    "    board[action // 3, action % 3] = -1\n"
   ]
  },
  {
   "cell_type": "code",
   "execution_count": null,
   "id": "e1fca5d8",
   "metadata": {},
   "outputs": [],
   "source": [
    "# Example: simulate a player click at (50, 50)\n",
    "player_move(board, (50, 50))\n",
    "draw_board(board)\n",
    "\n",
    "# Agent makes a move\n",
    "agent_move(board, model)  # 'model' should be a trained PyTorch model\n",
    "draw_board(board)\n"
   ]
  },
  {
   "cell_type": "markdown",
   "id": "55517768",
   "metadata": {},
   "source": [
    "## 6 - Game Loop and Display <a id=\"6\"></a>\n",
    "\n",
    "**Instructions:**  \n",
    "\n",
    "- Combine **player clicks**, **agent moves**, and **drawing functions** in a single game loop.  \n",
    "- Check for **win, draw, or ongoing game** after each move.  \n",
    "- Update the display after every change.  \n",
    "- Students should understand **event-driven programming** and how the loop continuously checks for input and updates the UI.\n"
   ]
  },
  {
   "cell_type": "code",
   "execution_count": 5,
   "id": "0d23e1be",
   "metadata": {},
   "outputs": [
    {
     "ename": "NameError",
     "evalue": "name 'draw_board' is not defined",
     "output_type": "error",
     "traceback": [
      "\u001b[31m---------------------------------------------------------------------------\u001b[39m",
      "\u001b[31mNameError\u001b[39m                                 Traceback (most recent call last)",
      "\u001b[36mCell\u001b[39m\u001b[36m \u001b[39m\u001b[32mIn[5]\u001b[39m\u001b[32m, line 26\u001b[39m\n\u001b[32m     24\u001b[39m \u001b[38;5;66;03m# Game loop\u001b[39;00m\n\u001b[32m     25\u001b[39m \u001b[38;5;28;01mwhile\u001b[39;00m running:\n\u001b[32m---> \u001b[39m\u001b[32m26\u001b[39m     draw_board(board)\n\u001b[32m     28\u001b[39m     \u001b[38;5;28;01mfor\u001b[39;00m event \u001b[38;5;129;01min\u001b[39;00m pygame.event.get():\n\u001b[32m     29\u001b[39m         \u001b[38;5;28;01mif\u001b[39;00m event.type == pygame.QUIT:\n",
      "\u001b[31mNameError\u001b[39m: name 'draw_board' is not defined"
     ]
    }
   ],
   "source": [
    "# Initialize game state\n",
    "running = True\n",
    "game_over = False\n",
    "\n",
    "def check_winner(board):\n",
    "    \"\"\"\n",
    "    Returns:\n",
    "        1 if player wins\n",
    "       -1 if agent wins\n",
    "        0 if draw\n",
    "        None if game ongoing\n",
    "    \"\"\"\n",
    "    # Rows, columns, diagonals\n",
    "    lines = list(board) + list(board.T) + [board.diagonal(), np.fliplr(board).diagonal()]\n",
    "    for line in lines:\n",
    "        if np.all(line == 1):\n",
    "            return 1\n",
    "        elif np.all(line == -1):\n",
    "            return -1\n",
    "    if not np.any(board == 0):\n",
    "        return 0  # Draw\n",
    "    return None  # Game ongoing\n",
    "\n",
    "# Game loop\n",
    "while running:\n",
    "    draw_board(board)\n",
    "    \n",
    "    for event in pygame.event.get():\n",
    "        if event.type == pygame.QUIT:\n",
    "            running = False\n",
    "        elif event.type == pygame.MOUSEBUTTONDOWN and not game_over:\n",
    "            if player_move(board, event.pos):\n",
    "                # Check for win/draw after player move\n",
    "                result = check_winner(board)\n",
    "                if result is not None:\n",
    "                    game_over = True\n",
    "                    print(\"Game result:\", \"Player wins!\" if result==1 else \"Agent wins!\" if result==-1 else \"Draw!\")\n",
    "                    continue\n",
    "                \n",
    "                # Agent move\n",
    "                agent_move(board, model)\n",
    "                \n",
    "                # Check for win/draw after agent move\n",
    "                result = check_winner(board)\n",
    "                if result is not None:\n",
    "                    game_over = True\n",
    "                    print(\"Game result:\", \"Player wins!\" if result==1 else \"Agent wins!\" if result==-1 else \"Draw!\")\n",
    "                    \n",
    "pygame.quit()\n"
   ]
  },
  {
   "cell_type": "markdown",
   "id": "f023b48d",
   "metadata": {},
   "source": [
    "## 7 - Optional Features <a id=\"7\"></a>\n",
    "\n",
    "Students can enhance the Pygame Tic-Tac-Toe game with these optional features:\n",
    "\n",
    "- **Highlight the winning line**: draw a colored line over the row, column, or diagonal that wins.  \n",
    "- **Restart button**: allow the player to reset the board without closing the window.  \n",
    "- **Choose X or O**: let the human player select their symbol at the start.  \n",
    "- **Scoreboard**: display wins, draws, and losses across multiple games.  \n",
    "- **Animations or sounds**: add visual effects or sounds for moves and wins.  \n",
    "- **Multiple RL agents**: allow the player to choose between SARSA, Q-Learning, or DQN agents.  \n",
    "- **Different board sizes**: experiment with 4x4 or 5x5 grids and adapt the agent accordingly.  \n",
    "\n",
    "> Students should be encouraged to **think creatively** about improving the interface and adding features.\n"
   ]
  },
  {
   "cell_type": "markdown",
   "id": "139be6d1",
   "metadata": {},
   "source": [
    "## 8 - Exercises <a id=\"8\"></a>\n",
    "\n",
    "1. **Add a scoreboard**: track wins, draws, and losses for the player and agent.  \n",
    "2. **Adaptive agent**: let the agent continue learning from the player’s moves in real time.  \n",
    "3. **Menu for agent selection**: choose which RL model to play against (SARSA, Q-Learning, DQN).  \n",
    "4. **Move animations**: animate the drawing of X and O instead of instant placement.  \n",
    "5. **Variable board size**: implement 4x4 or 5x5 boards and adapt the agent logic.  \n",
    "6. **Undo move feature**: allow the player to undo their last move.  \n",
    "7. **Difficulty levels**: let the agent play at different levels (random, heuristic, fully trained).  \n",
    "\n",
    "> These exercises encourage students to **integrate UI design, game logic, and RL model interaction**, reinforcing the project-based learning approach.\n"
   ]
  },
  {
   "cell_type": "markdown",
   "id": "5ed24d98",
   "metadata": {},
   "source": []
  }
 ],
 "metadata": {
  "kernelspec": {
   "display_name": "Python 3 (ipykernel)",
   "language": "python",
   "name": "python3"
  },
  "language_info": {
   "codemirror_mode": {
    "name": "ipython",
    "version": 3
   },
   "file_extension": ".py",
   "mimetype": "text/x-python",
   "name": "python",
   "nbconvert_exporter": "python",
   "pygments_lexer": "ipython3",
   "version": "3.12.7"
  }
 },
 "nbformat": 4,
 "nbformat_minor": 5
}
