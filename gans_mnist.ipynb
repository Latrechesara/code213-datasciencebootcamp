{
 "cells": [
  {
   "cell_type": "markdown",
   "id": "80e078f4",
   "metadata": {},
   "source": [
    "# Goal of this Notebook  \n",
    "\n",
    "In this lab, we will **implement a Generative Adversarial Network (GAN)** to generate handwritten digits from the MNIST dataset.  \n",
    "\n",
    "\n",
    "## Reminder: What is a GAN?  \n",
    "\n",
    "- **Generator (G):** Learns to create fake samples from random noise \\(z\\).  \n",
    "- **Discriminator (D):** Learns to distinguish real samples (from dataset) from fake samples (from G).  \n",
    "\n",
    "Training is a **minimax game**:  \n",
    "\n",
    "$$\n",
    "\\min_G \\max_D V(D, G) = \\mathbb{E}_{x \\sim p_{\\text{data}}}[\\log D(x)] + \\mathbb{E}_{z \\sim p_z}[\\log(1 - D(G(z)))]\n",
    "$$\n",
    "\n",
    "- The Generator tries to **fool** the Discriminator.  \n",
    "- The Discriminator tries to **catch** the Generator.  \n",
    "\n",
    "At equilibrium: **Discriminator guesses 50/50** → GAN has converged.  \n",
    "  \n",
    "\n",
    "\n",
    "## Table of Contents  \n",
    "\n",
    "- [1 - Packages](#1)  \n",
    "- [2 - Load Dataset (MNIST)](#2)  \n",
    "- [3 - Build the Generator](#3)  \n",
    "- [4 - Build the Discriminator](#4)  \n",
    "- [5 - Build the GAN Model](#5)  \n",
    "- [6 - Training Loop](#6)  \n",
    "- [7 - Visualizing Generated Images](#7)  \n",
    "- [8 - Exercises](#8)  "
   ]
  },
  {
   "cell_type": "markdown",
   "id": "e308f5d2",
   "metadata": {},
   "source": [
    "## 1 - Packages <a id=\"1\"></a>  \n",
    "\n",
    "Import all the necessary libraries:  \n",
    "- `keras` for deep learning  \n",
    "- `numpy` for arrays  \n",
    "- `matplotlib` for visualization  "
   ]
  },
  {
   "cell_type": "code",
   "execution_count": null,
   "id": "0678cb07",
   "metadata": {},
   "outputs": [],
   "source": []
  },
  {
   "cell_type": "markdown",
   "id": "478bb2d0",
   "metadata": {},
   "source": [
    "## 2 - Load Dataset (MNIST) <a id=\"2\"></a>  \n",
    "\n",
    "- Load the **MNIST dataset** using `keras.datasets.mnist`.  \n",
    "- Normalize images to range **[-1, 1]** (important for `tanh` in the Generator).  \n",
    "\n",
    "**Hint:** Use `(x_train - 127.5) / 127.5`.  \n"
   ]
  },
  {
   "cell_type": "markdown",
   "id": "9981db2b",
   "metadata": {},
   "source": [
    "## 3 - Build the Generator <a id=\"3\"></a>  \n",
    "\n",
    "- The Generator takes random noise \\(z \\in \\mathbb{R}^{100}\\).  \n",
    "- Outputs a **784-dimensional vector** (flattened MNIST image).  \n",
    "- Use: `Dense → LeakyReLU → Dense → tanh`. "
   ]
  },
  {
   "cell_type": "markdown",
   "id": "650793c6",
   "metadata": {},
   "source": []
  },
  {
   "cell_type": "markdown",
   "id": "d8d5eb2d",
   "metadata": {},
   "source": [
    "## 4 - Build the Discriminator <a id=\"4\"></a>  \n",
    "\n",
    "- The Discriminator takes a **784-dimensional image**.  \n",
    "- Outputs a single scalar probability (real vs fake).  \n",
    "- Use: `Dense → LeakyReLU → Dense → Sigmoid`.  \n"
   ]
  },
  {
   "cell_type": "markdown",
   "id": "c9bfcf41",
   "metadata": {},
   "source": [
    "## 5 - Build the GAN Model <a id=\"5\"></a>  \n",
    "\n",
    "- Combine **Generator + Discriminator**.  \n",
    "- Freeze Discriminator weights when training GAN.  \n",
    "\n",
    " *Equation:*  \n",
    "\n",
    "$$\n",
    "\\min_G \\max_D V(D, G)\n",
    "$$\n"
   ]
  },
  {
   "cell_type": "markdown",
   "id": "bd87be35",
   "metadata": {},
   "source": []
  },
  {
   "cell_type": "markdown",
   "id": "d02ce991",
   "metadata": {},
   "source": [
    "## 6 - Training Loop <a id=\"6\"></a>  \n",
    "\n",
    "- Alternate between training **Discriminator** and **Generator**.  \n",
    "- Discriminator: Train on **real + fake images**.  \n",
    "- Generator: Train to **fool the Discriminator**.  \n",
    "\n",
    " **Hint:**  \n",
    "- Label real images as **1**, fake images as **0**.  \n",
    "- Train in small batches for stability.  "
   ]
  },
  {
   "cell_type": "markdown",
   "id": "692bd280",
   "metadata": {},
   "source": []
  },
  {
   "cell_type": "markdown",
   "id": "109ae873",
   "metadata": {},
   "source": [
    "# 7 - Visualizing Generated Images <a id=\"7\"></a>  \n",
    "\n",
    "**Instruction for student:**  \n",
    "- Plot fake images after **N epochs**.  \n",
    "- Observe progression (blurry digits → realistic digits).  "
   ]
  },
  {
   "cell_type": "markdown",
   "id": "3c95208a",
   "metadata": {},
   "source": [
    "## 8 - Exercises <a id=\"8\"></a>  \n",
    "\n",
    "1. Change the **latent vector size** from 100 to 50. What happens?  \n",
    "2. Add more layers to the Generator. Does image quality improve?  \n",
    "3. Try training for more epochs. Do digits become sharper?"
   ]
  },
  {
   "cell_type": "markdown",
   "id": "4bdc73a0",
   "metadata": {},
   "source": []
  }
 ],
 "metadata": {
  "kernelspec": {
   "display_name": "bd",
   "language": "python",
   "name": "python3"
  },
  "language_info": {
   "codemirror_mode": {
    "name": "ipython",
    "version": 3
   },
   "file_extension": ".py",
   "mimetype": "text/x-python",
   "name": "python",
   "nbconvert_exporter": "python",
   "pygments_lexer": "ipython3",
   "version": "3.12.11"
  }
 },
 "nbformat": 4,
 "nbformat_minor": 5
}
